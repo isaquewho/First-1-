{
  "nbformat": 4,
  "nbformat_minor": 0,
  "metadata": {
    "colab": {
      "provenance": [],
      "authorship_tag": "ABX9TyMuPD1sdNcE/H7j/kjPvBeX",
      "include_colab_link": true
    },
    "kernelspec": {
      "name": "python3",
      "display_name": "Python 3"
    },
    "language_info": {
      "name": "python"
    }
  },
  "cells": [
    {
      "cell_type": "markdown",
      "metadata": {
        "id": "view-in-github",
        "colab_type": "text"
      },
      "source": [
        "<a href=\"https://colab.research.google.com/github/isaquewho/First-1-/blob/main/1_Atividade_colab.ipynb\" target=\"_parent\"><img src=\"https://colab.research.google.com/assets/colab-badge.svg\" alt=\"Open In Colab\"/></a>"
      ]
    },
    {
      "cell_type": "code",
      "source": [
        "nome = input(\"Digite seu nome: \")\n",
        "print(\"Olá,\", nome, \"É um enorme prazer te conhecer\")\n"
      ],
      "metadata": {
        "colab": {
          "base_uri": "https://localhost:8080/"
        },
        "id": "ouOMv7ZrhD4t",
        "outputId": "9001c57f-d7ac-44d1-e6a3-009ae8778ced"
      },
      "execution_count": 2,
      "outputs": [
        {
          "output_type": "stream",
          "name": "stdout",
          "text": [
            "Digite seu nome: jose\n",
            "Olá, jose É um enorme prazer te conhecer\n"
          ]
        }
      ]
    },
    {
      "cell_type": "code",
      "execution_count": 1,
      "metadata": {
        "colab": {
          "base_uri": "https://localhost:8080/"
        },
        "id": "Da8EBF0-geSY",
        "outputId": "6d3a5ff7-86ac-4bcf-bd6f-0f2d1d764bdf"
      },
      "outputs": [
        {
          "output_type": "stream",
          "name": "stdout",
          "text": [
            "Nome do Funcionario: jose\n",
            "ano de nascimento: 1999\n",
            "Salário: 2050\n",
            "Nome:  jose\n",
            "Ano de nascimento:  1999\n",
            "Salário:  2050\n"
          ]
        }
      ],
      "source": [
        "nome = input(\"Nome do Funcionario: \")\n",
        "ano = input(\"ano de nascimento: \")\n",
        "sala = input(\"Salário: \")\n",
        "\n",
        "print(\"Nome: \", nome)\n",
        "print(\"Ano de nascimento: \", ano)\n",
        "print(\"Salário: \", sala)"
      ]
    },
    {
      "cell_type": "code",
      "source": [
        "antecessor = int(input(\"Digite um número: \"))\n",
        "print(\"O antecessor é: \", antecessor - 1)\n",
        "print(\"O sucessor é: \", antecessor + 1)"
      ],
      "metadata": {
        "colab": {
          "base_uri": "https://localhost:8080/"
        },
        "id": "JKJtxSatgz1d",
        "outputId": "d43260e4-4f36-43c1-f32b-da77c5dd6606"
      },
      "execution_count": 5,
      "outputs": [
        {
          "output_type": "stream",
          "name": "stdout",
          "text": [
            "Digite um número: 259\n",
            "O antecessor é:  258\n",
            "O sucessor é:  260\n"
          ]
        }
      ]
    },
    {
      "cell_type": "code",
      "source": [
        "n1 = int(input(\"Digite um número: \"))\n",
        "n2 = int(input(\"Digite outro número: \"))\n",
        "print(\"A soma é: \", n1 + n2)\n",
        "print(\"A subtração é: \", n1 - n2)\n",
        "print(\"A diferença é: \", n1 - n2)\n",
        "print(\"A multiplicação é: \", n1 * n2)\n",
        "print(\"A divisão inteira é: \", n1 // n2)\n",
        "print(\"A divisão é: \", n1 / n2)\n",
        "print(\"O resto da divisão é: \", n1 % n2)"
      ],
      "metadata": {
        "colab": {
          "base_uri": "https://localhost:8080/"
        },
        "id": "RkJfqOoKiHLH",
        "outputId": "ac241710-564f-42cc-81db-2d8814eb0834"
      },
      "execution_count": 8,
      "outputs": [
        {
          "output_type": "stream",
          "name": "stdout",
          "text": [
            "Digite um número: 1\n",
            "Digite outro número: 2\n",
            "A soma é:  3\n",
            "A subtração é:  -1\n",
            "A multiplicação é:  2\n",
            "A divisão é:  0.5\n"
          ]
        }
      ]
    },
    {
      "cell_type": "code",
      "source": [
        "\n",
        "\n",
        "n1 = float(input(\"Digite a primeira nota: \"))\n",
        "n2 = float(input(\"Digite a segunda nota: \"))\n",
        "media = (n1 + n2) / 2\n",
        "print(\"A média é: \", media)\n"
      ],
      "metadata": {
        "colab": {
          "base_uri": "https://localhost:8080/"
        },
        "id": "QcOAtDVHihlV",
        "outputId": "3df7868a-3fa5-4945-e436-ae49f942be40"
      },
      "execution_count": 10,
      "outputs": [
        {
          "output_type": "stream",
          "name": "stdout",
          "text": [
            "Digite a primeira nota: 12\n",
            "Digite a segunda nota: 10\n",
            "A média é:  11.0\n"
          ]
        }
      ]
    },
    {
      "cell_type": "code",
      "source": [
        "medida = float(input(\"Digite a medida em metros: \"))\n",
        "print(\"A medida em centímetros é: \", medida * 100)\n",
        "print(\"A medida em milímetros é: \", medida * 1000)\n",
        "print(\"A medida em decâmetros é: \",medida / 10)\n",
        "print(\"A medida em decímetros é: \", medida * 10)\n",
        "print(\"A medida em decâmetros é: \", medida / 100)\n",
        "print(\"A medida em hectômetros é: \", medida / 10000)\n",
        "print(\"A medida em quilômetros é: \", medida / 100000)"
      ],
      "metadata": {
        "colab": {
          "base_uri": "https://localhost:8080/"
        },
        "id": "PhLkELgSk_WH",
        "outputId": "5528dfd3-64d8-4722-dfae-51fe0e5a5adc"
      },
      "execution_count": 13,
      "outputs": [
        {
          "output_type": "stream",
          "name": "stdout",
          "text": [
            "Digite a medida em metros: 100000\n",
            "A medida em centímetros é:  10000000.0\n",
            "A medida em milímetros é:  100000000.0\n",
            "A medida em decâmetros é:  10000.0\n",
            "A medida em decímetros é:  1000000.0\n",
            "A medida em decâmetros é:  1000.0\n",
            "A medida em hectômetros é:  10.0\n",
            "A medida em quilômetros é:  1.0\n"
          ]
        }
      ]
    },
    {
      "cell_type": "code",
      "source": [
        "litrodetintaparede = float(input(\"Digite a área da parede em metros quadrados: \"))\n",
        "print(\"A quantidade de tinta necessária é: \", litrodetintaparede / 2)"
      ],
      "metadata": {
        "id": "PZF5jpYanFKI"
      },
      "execution_count": null,
      "outputs": []
    }
  ]
}