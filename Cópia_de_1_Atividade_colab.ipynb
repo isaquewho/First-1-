{
  "nbformat": 4,
  "nbformat_minor": 0,
  "metadata": {
    "colab": {
      "provenance": [],
      "authorship_tag": "ABX9TyNImpRGKimyvxHU+0S4MaF8",
      "include_colab_link": true
    },
    "kernelspec": {
      "name": "python3",
      "display_name": "Python 3"
    },
    "language_info": {
      "name": "python"
    }
  },
  "cells": [
    {
      "cell_type": "markdown",
      "metadata": {
        "id": "view-in-github",
        "colab_type": "text"
      },
      "source": [
        "<a href=\"https://colab.research.google.com/github/isaquewho/First-1-/blob/main/C%C3%B3pia_de_1_Atividade_colab.ipynb\" target=\"_parent\"><img src=\"https://colab.research.google.com/assets/colab-badge.svg\" alt=\"Open In Colab\"/></a>"
      ]
    },
    {
      "cell_type": "code",
      "source": [
        "nome = input(\"Digite seu nome: \")\n",
        "print(\"Olá,\", nome, \"É um enorme prazer te conhecer\")\n"
      ],
      "metadata": {
        "colab": {
          "base_uri": "https://localhost:8080/"
        },
        "id": "ouOMv7ZrhD4t",
        "outputId": "9001c57f-d7ac-44d1-e6a3-009ae8778ced"
      },
      "execution_count": null,
      "outputs": [
        {
          "output_type": "stream",
          "name": "stdout",
          "text": [
            "Digite seu nome: jose\n",
            "Olá, jose É um enorme prazer te conhecer\n"
          ]
        }
      ]
    },
    {
      "cell_type": "code",
      "execution_count": null,
      "metadata": {
        "colab": {
          "base_uri": "https://localhost:8080/"
        },
        "id": "Da8EBF0-geSY",
        "outputId": "6d3a5ff7-86ac-4bcf-bd6f-0f2d1d764bdf"
      },
      "outputs": [
        {
          "output_type": "stream",
          "name": "stdout",
          "text": [
            "Nome do Funcionario: jose\n",
            "ano de nascimento: 1999\n",
            "Salário: 2050\n",
            "Nome:  jose\n",
            "Ano de nascimento:  1999\n",
            "Salário:  2050\n"
          ]
        }
      ],
      "source": [
        "nome = input(\"Nome do Funcionario: \")\n",
        "ano = input(\"ano de nascimento: \")\n",
        "sala = input(\"Salário: \")\n",
        "\n",
        "print(\"Nome: \", nome)\n",
        "print(\"Ano de nascimento: \", ano)\n",
        "print(\"Salário: \", sala)"
      ]
    },
    {
      "cell_type": "code",
      "source": [
        "antecessor = int(input(\"Digite um número: \"))\n",
        "print(\"O antecessor é: \", antecessor - 1)\n",
        "print(\"O sucessor é: \", antecessor + 1)"
      ],
      "metadata": {
        "colab": {
          "base_uri": "https://localhost:8080/"
        },
        "id": "JKJtxSatgz1d",
        "outputId": "d43260e4-4f36-43c1-f32b-da77c5dd6606"
      },
      "execution_count": null,
      "outputs": [
        {
          "output_type": "stream",
          "name": "stdout",
          "text": [
            "Digite um número: 259\n",
            "O antecessor é:  258\n",
            "O sucessor é:  260\n"
          ]
        }
      ]
    },
    {
      "cell_type": "code",
      "source": [
        "n1 = int(input(\"Digite um número: \"))\n",
        "n2 = int(input(\"Digite outro número: \"))\n",
        "print(\"A soma é: \", n1 + n2)\n",
        "print(\"A subtração é: \", n1 - n2)\n",
        "print(\"A diferença é: \", n1 - n2)\n",
        "print(\"A multiplicação é: \", n1 * n2)\n",
        "print(\"A divisão inteira é: \", n1 // n2)\n",
        "print(\"A divisão é: \", n1 / n2)\n",
        "print(\"O resto da divisão é: \", n1 % n2)"
      ],
      "metadata": {
        "colab": {
          "base_uri": "https://localhost:8080/"
        },
        "id": "RkJfqOoKiHLH",
        "outputId": "ac241710-564f-42cc-81db-2d8814eb0834"
      },
      "execution_count": null,
      "outputs": [
        {
          "output_type": "stream",
          "name": "stdout",
          "text": [
            "Digite um número: 1\n",
            "Digite outro número: 2\n",
            "A soma é:  3\n",
            "A subtração é:  -1\n",
            "A multiplicação é:  2\n",
            "A divisão é:  0.5\n"
          ]
        }
      ]
    },
    {
      "cell_type": "code",
      "source": [
        "\n",
        "\n",
        "n1 = float(input(\"Digite a primeira nota: \"))\n",
        "n2 = float(input(\"Digite a segunda nota: \"))\n",
        "media = (n1 + n2) / 2\n",
        "print(\"A média é: \", media)\n"
      ],
      "metadata": {
        "colab": {
          "base_uri": "https://localhost:8080/"
        },
        "id": "QcOAtDVHihlV",
        "outputId": "3df7868a-3fa5-4945-e436-ae49f942be40"
      },
      "execution_count": null,
      "outputs": [
        {
          "output_type": "stream",
          "name": "stdout",
          "text": [
            "Digite a primeira nota: 12\n",
            "Digite a segunda nota: 10\n",
            "A média é:  11.0\n"
          ]
        }
      ]
    },
    {
      "cell_type": "code",
      "source": [
        "medida = float(input(\"Digite a medida em metros: \"))\n",
        "print(\"A medida em centímetros é: \", medida * 100)\n",
        "print(\"A medida em milímetros é: \", medida * 1000)\n",
        "print(\"A medida em decâmetros é: \",medida / 10)\n",
        "print(\"A medida em decímetros é: \", medida * 10)\n",
        "print(\"A medida em hectômetros é: \", medida / 100)\n",
        "print(\"A medida em quilômetros é: \", medida / 1000)"
      ],
      "metadata": {
        "colab": {
          "base_uri": "https://localhost:8080/"
        },
        "id": "PhLkELgSk_WH",
        "outputId": "c39f1a9b-53ce-4230-ae58-00a292617e27"
      },
      "execution_count": 1,
      "outputs": [
        {
          "output_type": "stream",
          "name": "stdout",
          "text": [
            "Digite a medida em metros: 10\n",
            "A medida em centímetros é:  1000.0\n",
            "A medida em milímetros é:  10000.0\n",
            "A medida em decâmetros é:  1.0\n",
            "A medida em decímetros é:  100.0\n",
            "A medida em hectômetros é:  0.1\n",
            "A medida em quilômetros é:  0.01\n"
          ]
        }
      ]
    },
    {
      "cell_type": "code",
      "source": [
        "largura = float(input(\"Largura da parede: \"))\n",
        "altura = float(input(\"Altura da parede: \"))\n",
        "area = largura * altura\n",
        "print(\"A área da parede é: \", area)\n",
        "tinta = area / 2\n",
        "print(\"A quantidade de tinta necessária é: \", tinta)"
      ],
      "metadata": {
        "id": "PZF5jpYanFKI",
        "colab": {
          "base_uri": "https://localhost:8080/"
        },
        "outputId": "16c730cb-e963-48a3-92f9-be4595281b58"
      },
      "execution_count": 4,
      "outputs": [
        {
          "output_type": "stream",
          "name": "stdout",
          "text": [
            "Largura da parede: 10\n",
            "Altura da parede: 19\n",
            "A área da parede é:  190.0\n",
            "A quantidade de tinta necessária é:  95.0\n"
          ]
        }
      ]
    },
    {
      "cell_type": "code",
      "source": [
        "desconto = float(input(\"Digite o valor do produto: \"))\n",
        "print(\"O valor do produto é: \", desconto)\n",
        "print(\"O valor com desconto é: \", desconto - (desconto * 0.05))"
      ],
      "metadata": {
        "colab": {
          "base_uri": "https://localhost:8080/"
        },
        "id": "EuebQd1Ap9IA",
        "outputId": "60a20261-0b6c-4498-aa2e-9b98c7905f28"
      },
      "execution_count": 10,
      "outputs": [
        {
          "output_type": "stream",
          "name": "stdout",
          "text": [
            "Digite o valor do produto: 2000\n",
            "O valor do produto é:  2000.0\n",
            "O valor com desconto é:  1900.0\n"
          ]
        }
      ]
    },
    {
      "cell_type": "code",
      "source": [
        "aumentosalarial = float(input(\"Digite o valor do salário: \"))\n",
        "print(\"O valor do salário é: \", aumentosalarial)\n",
        "reajus = float(input(\"Digite o valor reajuste \"))\n",
        "print(\"O novo salário é: \", aumentosalarial + (aumentosalarial * reajus / 100))\n"
      ],
      "metadata": {
        "colab": {
          "base_uri": "https://localhost:8080/"
        },
        "id": "gG02l_uhrNhg",
        "outputId": "c5c5bf64-2953-4eee-b2da-05e9dc1e46b5"
      },
      "execution_count": 14,
      "outputs": [
        {
          "output_type": "stream",
          "name": "stdout",
          "text": [
            "Digite o valor do salário: 1000\n",
            "O valor do salário é:  1000.0\n",
            "Digite o valor reajuste5\n",
            "O novo salário é:  1050.0\n"
          ]
        }
      ]
    },
    {
      "cell_type": "code",
      "source": [
        "cigarro = int(input(\"Digite a quantidade de cigarros fumados por dia: \"))\n",
        "tempo = int(input(\"Digite a quantidade de anos que você já fumou: \"))\n",
        "dias_fumados = tempo * 365\n",
        "minutos_perdidos = cigarro * 10\n",
        "dias_perdidos = minutos_perdidos / 1440\n",
        "print(\"Você perdeu: \", dias_perdidos, \"dias de vida\")\n",
        "\n"
      ],
      "metadata": {
        "colab": {
          "base_uri": "https://localhost:8080/"
        },
        "id": "VcZsRBtZrstA",
        "outputId": "04fa6cc9-ba06-4a4f-df80-349c47dd0348"
      },
      "execution_count": 16,
      "outputs": [
        {
          "output_type": "stream",
          "name": "stdout",
          "text": [
            "Digite a quantidade de cigarros fumados por dia: 100\n",
            "Digite a quantidade de anos que você já fumou: 20\n",
            "Você perdeu:  0.6944444444444444 dias de vida\n"
          ]
        }
      ]
    }
  ]
}